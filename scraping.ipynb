{
  "nbformat": 4,
  "nbformat_minor": 0,
  "metadata": {
    "colab": {
      "provenance": [],
      "authorship_tag": "ABX9TyMYACZAwjvI0WUUWI6d2pvf",
      "include_colab_link": true
    },
    "kernelspec": {
      "name": "python3",
      "display_name": "Python 3"
    },
    "language_info": {
      "name": "python"
    }
  },
  "cells": [
    {
      "cell_type": "markdown",
      "metadata": {
        "id": "view-in-github",
        "colab_type": "text"
      },
      "source": [
        "<a href=\"https://colab.research.google.com/github/saampaark/PL-Football-Predictor/blob/main/scraping.ipynb\" target=\"_parent\"><img src=\"https://colab.research.google.com/assets/colab-badge.svg\" alt=\"Open In Colab\"/></a>"
      ]
    },
    {
      "cell_type": "code",
      "source": [
        "import requests\n",
        "from bs4 import BeautifulSoup\n",
        "import pandas as pd\n",
        "import time\n",
        "\n",
        "# URL of the Premier League stats\n",
        "standings_url = \"https://fbref.com/en/comps/9/Premier-League-Stats\"\n",
        "\n",
        "# Fetching the page content\n",
        "data = requests.get(standings_url)\n",
        "\n",
        "# Parsing the page content with BeautifulSoup\n",
        "soup = BeautifulSoup(data.text)\n",
        "standings_table = soup.select('table.stats_table')[0]\n",
        "links = standings_table.find_all('a')\n",
        "links = [l.get(\"href\") for l in links]\n",
        "links = [l for l in links if '/squads/' in l]\n",
        "\n",
        "# Extracting match data using Pandas\n",
        "team_urls = [f\"https://fbref.com{l}\" for l in links]\n",
        "data = requests.get(team_urls[0])\n",
        "matches = pd.read_html(data.text, match=\"Scores & Fixtures\")[0]\n",
        "\n",
        "# Extract match shooting stats\n",
        "soup = BeautifulSoup(data.text)\n",
        "links = soup.find_all('a')\n",
        "links = [l.get(\"href\") for l in links]\n",
        "links = [l for l in links if l and 'all_comps/shooting/' in l]\n",
        "\n",
        "data = requests.get(f\"https://fbref.com{links[0]}\")\n",
        "shooting = pd.read_html(data.text, match=\"Shooting\")[0]\n",
        "shooting.head()\n",
        "\n",
        "# Cleaning and merging the scraped data\n",
        "shooting.columns = shooting.columns.droplevel()\n",
        "team_data = matches.merge(shooting[[\"Date\", \"Sh\", \"SoT\", \"Dist\", \"FK\", \"PK\", \"PKatt\"]], on=\"Date\")\n",
        "team_data.head()\n",
        "\n",
        "# List of seasons to scrape data for (2020 - 2024)\n",
        "years = list(range(2024, 2020, -1))\n",
        "all_matches = []\n",
        "\n",
        "# Initial standings URL\n",
        "standings_url = \"https://fbref.com/en/comps/9/Premier-League-Stats\"\n",
        "\n",
        "# Loop through each seasons\n",
        "for year in years:\n",
        "\n",
        "    # Fetching the standings page content for the current season\n",
        "    data = requests.get(standings_url)\n",
        "    soup = BeautifulSoup(data.text)\n",
        "    standings_table = soup.select('table.stats_table')[0]\n",
        "\n",
        "    # Extracting and filtering team squad URLs\n",
        "    links = [l.get(\"href\") for l in standings_table.find_all('a')]\n",
        "    links = [l for l in links if '/squads/' in l]\n",
        "    team_urls = [f\"https://fbref.com{l}\" for l in links]\n",
        "\n",
        "    # Finding the URL for the previous season\n",
        "    previous_season = soup.select(\"a.prev\")[0].get(\"href\")\n",
        "    standings_url = f\"https://fbref.com{previous_season}\"\n",
        "\n",
        "    # Looping through each team URL\n",
        "    for team_url in team_urls:\n",
        "        team_name = team_url.split(\"/\")[-1].replace(\"-Stats\", \"\").replace(\"-\", \" \")\n",
        "\n",
        "        data = requests.get(team_url)\n",
        "        matches = pd.read_html(data.text, match=\"Scores & Fixtures\")[0]\n",
        "\n",
        "        soup = BeautifulSoup(data.text)\n",
        "        time.sleep(5)\n",
        "        links = [l.get(\"href\") for l in soup.find_all('a')]\n",
        "        links = [l for l in links if l and 'all_comps/shooting/' in l]\n",
        "        data = requests.get(f\"https://fbref.com{links[0]}\")\n",
        "        shooting = pd.read_html(data.text, match=\"Shooting\")[0]\n",
        "        shooting.columns = shooting.columns.droplevel()\n",
        "\n",
        "        try:\n",
        "            team_data = matches.merge(shooting[[\"Date\", \"Sh\", \"SoT\", \"Dist\", \"FK\", \"PK\", \"PKatt\"]], on=\"Date\")\n",
        "        except ValueError:\n",
        "            continue\n",
        "\n",
        "        team_data = team_data[team_data[\"Comp\"] == \"Premier League\"]\n",
        "        team_data[\"Season\"] = year\n",
        "        team_data[\"Team\"] = team_name\n",
        "        all_matches.append(team_data)\n",
        "\n",
        "        time.sleep(3)\n",
        "\n",
        "match_df = pd.concat(all_matches)\n",
        "match_df.columns = [c.lower() for c in match_df.columns]\n",
        "match_df\n",
        "\n",
        "# Writing the data to a CSV file\n",
        "match_df.to_csv(\"matches.csv\")"
      ],
      "metadata": {
        "id": "k_Ov517Tag52",
        "colab": {
          "base_uri": "https://localhost:8080/"
        },
        "outputId": "7b77cbfd-85b5-42ef-8acb-f5650c9fd9f6"
      },
      "execution_count": 1,
      "outputs": [
        {
          "output_type": "stream",
          "name": "stderr",
          "text": [
            "<ipython-input-1-948ce21c863c>:74: SettingWithCopyWarning: \n",
            "A value is trying to be set on a copy of a slice from a DataFrame.\n",
            "Try using .loc[row_indexer,col_indexer] = value instead\n",
            "\n",
            "See the caveats in the documentation: https://pandas.pydata.org/pandas-docs/stable/user_guide/indexing.html#returning-a-view-versus-a-copy\n",
            "  team_data[\"Season\"] = year\n",
            "<ipython-input-1-948ce21c863c>:75: SettingWithCopyWarning: \n",
            "A value is trying to be set on a copy of a slice from a DataFrame.\n",
            "Try using .loc[row_indexer,col_indexer] = value instead\n",
            "\n",
            "See the caveats in the documentation: https://pandas.pydata.org/pandas-docs/stable/user_guide/indexing.html#returning-a-view-versus-a-copy\n",
            "  team_data[\"Team\"] = team_name\n",
            "<ipython-input-1-948ce21c863c>:74: SettingWithCopyWarning: \n",
            "A value is trying to be set on a copy of a slice from a DataFrame.\n",
            "Try using .loc[row_indexer,col_indexer] = value instead\n",
            "\n",
            "See the caveats in the documentation: https://pandas.pydata.org/pandas-docs/stable/user_guide/indexing.html#returning-a-view-versus-a-copy\n",
            "  team_data[\"Season\"] = year\n",
            "<ipython-input-1-948ce21c863c>:75: SettingWithCopyWarning: \n",
            "A value is trying to be set on a copy of a slice from a DataFrame.\n",
            "Try using .loc[row_indexer,col_indexer] = value instead\n",
            "\n",
            "See the caveats in the documentation: https://pandas.pydata.org/pandas-docs/stable/user_guide/indexing.html#returning-a-view-versus-a-copy\n",
            "  team_data[\"Team\"] = team_name\n"
          ]
        }
      ]
    },
    {
      "cell_type": "markdown",
      "source": [],
      "metadata": {
        "id": "grDkjFSbZhb_"
      }
    }
  ]
}