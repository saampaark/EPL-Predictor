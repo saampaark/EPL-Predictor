{
  "nbformat": 4,
  "nbformat_minor": 0,
  "metadata": {
    "colab": {
      "provenance": [],
      "authorship_tag": "ABX9TyMTVmZGHxpT5ZMN0PmcfEmM",
      "include_colab_link": true
    },
    "kernelspec": {
      "name": "python3",
      "display_name": "Python 3"
    },
    "language_info": {
      "name": "python"
    }
  },
  "cells": [
    {
      "cell_type": "markdown",
      "metadata": {
        "id": "view-in-github",
        "colab_type": "text"
      },
      "source": [
        "<a href=\"https://colab.research.google.com/github/saampaark/PL-Football-Predictor/blob/main/predictor.ipynb\" target=\"_parent\"><img src=\"https://colab.research.google.com/assets/colab-badge.svg\" alt=\"Open In Colab\"/></a>"
      ]
    },
    {
      "cell_type": "code",
      "execution_count": null,
      "metadata": {
        "id": "EDc_MgPDFRKy"
      },
      "outputs": [],
      "source": [
        "import pandas as pd\n",
        "from sklearn.ensemble import RandomForestClassifier\n",
        "from sklearn.metrics import accuracy_score\n",
        "from sklearn.metrics import precision_score\n",
        "\n",
        "# Loading and preprocessing data\n",
        "matches = pd.read_csv('matches.csv', index_col=0)\n",
        "matches[\"date\"] = pd.to_datetime(matches[\"date\"])\n",
        "matches[\"venue_code\"] = matches[\"venue\"].astype(\"category\").cat.codes\n",
        "matches[\"opp_code\"] = matches[\"opponent\"].astype(\"category\").cat.codes\n",
        "matches[\"hour\"] = matches[\"time\"].str.replace(\":.+\", \"\", regex=True).astype(\"int\")\n",
        "matches[\"day_code\"] = matches[\"date\"].dt.dayofweek\n",
        "matches[\"target\"] = (matches[\"result\"] == \"W\").astype(\"int\")\n",
        "\n",
        "# Initializing the RandomForestClassifier\n",
        "rf = RandomForestClassifier(n_estimators=50, min_samples_split=10, random_state=1)\n",
        "\n",
        "# Spliting data into training and testing sets based on the date\n",
        "train = matches[matches[\"date\"] < '2022-01-01']\n",
        "test = matches[matches[\"date\"] > '2022-01-01']\n",
        "\n",
        "# List of predictor columns\n",
        "predictors = [\"venue_code\", \"opp_code\", \"hour\", \"day_code\"]\n",
        "\n",
        "# Training RandomForestClassifier on the training data\n",
        "rf.fit(train[predictors], train[\"target\"])\n",
        "RandomForestClassifier(min_samples_split=0, n_estimators=50, random_state=1)\n",
        "preds = rf.predict(test[predictors])\n",
        "\n",
        "combined = pd.DataFrame(dict(actual=test[\"target\"], prediction=preds))\n",
        "pd.crosstab(index=combined[\"actual\"], columns=combined[\"prediction\"])\n",
        "\n",
        "precision_score(test[\"target\"], preds)\n",
        "\n",
        "# Function to compute rolling averages for specified columns\n",
        "def rolling_averages(group, cols, new_cols):\n",
        "  group = group.sort_values(\"date\")\n",
        "  rolling_stats = group[cols].rolling(3, closed='left').mean()\n",
        "  group[new_cols] = rolling_stats\n",
        "  group = group.dropna(subset=new_cols)\n",
        "  return group\n",
        "\n",
        "# Columns for which to calculate rolling averages\n",
        "cols = [\"gf\", \"ga\", \"sh\", \"sot\", \"dist\", \"fk\", \"pk\", \"pkatt\"]\n",
        "\n",
        "# New column names for the rolling averages\n",
        "new_cols = [f\"{c}_rolling\" for c in cols]\n",
        "\n",
        "# Computing rolling averages for each team and merging results\n",
        "matches_rolling = matches.groupby(\"team\").apply(lambda x: rolling_averages(x, cols, new_cols))\n",
        "matches_rolling = matches_rolling.droplevel('team')\n",
        "matches_rolling.index = range(matches_rolling.shape[0])\n",
        "\n",
        "# Function to train the model and make predictions\n",
        "def make_predictions(data, predictors):\n",
        "  train = data[data[\"date\"] < '2022-01-01']\n",
        "  test = data[data[\"date\"] > '2022-01-01']\n",
        "  rf.fit(train[predictors], train[\"target\"])\n",
        "  preds = rf.predict(test[predictors])\n",
        "  combined = pd.DataFrame(dict(actual=test[\"target\"], prediction=preds), index=test.index)\n",
        "  precision = precision_score(test[\"target\"], preds)\n",
        "  return combined, precision\n",
        "\n",
        "# Making predictions using the updated dataset with rolling averages\n",
        "combined, precision = make_predictions(matches_rolling, predictors + new_cols)\n",
        "\n",
        "# Merging additional match details for better interpretation of results\n",
        "combined = combined.merge(matches_rolling[[\"date\", \"team\", \"opponent\", \"result\"]], left_index=True, right_index=True)\n",
        "\n",
        "# Class to handle missing values in dictionary mapping\n",
        "class MissingDict(dict):\n",
        "  __missing__ = lambda self, key: key\n",
        "\n",
        "# Dictionary to map team names to shortened versions\n",
        "map_values = {\n",
        "    \"Brighton and Hove Albion\": \"Brighton\",\n",
        "    \"Manchester United\": \"Manchester Utd\",\n",
        "    \"Newcastle United\": \"Newcastle Utd\",\n",
        "    \"Tottenham Hotspur\": \"Tottenham\",\n",
        "    \"West Ham United\": \"West Ham\",\n",
        "    \"Wolverhampton Wanderers\": \"Wolves\"\n",
        "}\n",
        "\n",
        "mapping = MissingDict(**map_values)\n",
        "\n",
        "# Merging the predictions to compare scenarios where one team is predicted to win while the other is not\n",
        "combined[\"new_team\"] = combined[\"team\"].map(mapping)\n",
        "merged = combined.merge(combined, left_on=[\"date\", \"new_team\"], right_on=[\"date\", \"opponent\"])\n",
        "merged[(merged[\"prediction_x\"] == 1) & (merged[\"prediction_y\"] == 0)][\"actual_x\"].value_counts()"
      ]
    }
  ]
}